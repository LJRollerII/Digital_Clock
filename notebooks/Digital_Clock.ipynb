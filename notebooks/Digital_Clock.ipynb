{
 "cells": [
  {
   "cell_type": "code",
   "execution_count": null,
   "id": "84d3bfad",
   "metadata": {},
   "outputs": [],
   "source": [
    "from tkinter import Tk\n",
    "from tkinter import Label\n",
    "import time\n",
    "import sys\n",
    "\n",
    "master = Tk()\n",
    "master.title(\"Digital Clock\")\n",
    "\n",
    "#Let's add a function that will retrieve the time for us.\n",
    "def get_time():\n",
    "    timeVar = time.strftime(\"%I:%M:%S %p\")\n",
    "    #%I:Hours,%M: Minutes,%S:Seconds,%p:AM or PM,%Z: Time Zone,%H: Hour (24 Hour format)\n",
    "    clock.config(text = timeVar)\n",
    "    #Use clock after method to update run this function ever .002 sec\n",
    "    clock.after(200,get_time)\n",
    "\n",
    "#Let's give the clock a label with font,text size, background color, and foreground color.\n",
    "#We can do the same for the label by using Label(master, font = \"\", bg = \"\", fg = \"\").pack()\n",
    "clock = Label(master, font = (\"Gentium Book\", 100), bg = \"black\", fg = \"aqua\")\n",
    "#Use pack to place the label center screen.\n",
    "clock.pack()\n",
    "\n",
    "get_time()\n",
    "\n",
    "#We'll need to put this code in a loop so that the clock keep running.\n",
    "master.mainloop()"
   ]
  }
 ],
 "metadata": {
  "kernelspec": {
   "display_name": "Python 3 (ipykernel)",
   "language": "python",
   "name": "python3"
  },
  "language_info": {
   "codemirror_mode": {
    "name": "ipython",
    "version": 3
   },
   "file_extension": ".py",
   "mimetype": "text/x-python",
   "name": "python",
   "nbconvert_exporter": "python",
   "pygments_lexer": "ipython3",
   "version": "3.9.7"
  }
 },
 "nbformat": 4,
 "nbformat_minor": 5
}
