{
 "cells": [
  {
   "cell_type": "code",
   "execution_count": null,
   "id": "455f213a",
   "metadata": {},
   "outputs": [],
   "source": [
    "from tkinter import Tk\n",
    "from tkinter import Label\n",
    "import time\n",
    "import sys\n",
    "\n",
    "master = Tk()\n",
    "master.title(\"Digital Clock\")\n",
    "\n",
    "def get_time():\n",
    "    timeVar = time.strftime(\"%H:%M:%S %p\")\n",
    "    clock.config(text = timeVar)\n",
    "    clock.after(200,get_time)\n",
    "    weekday = time.strftime(\"%A\")\n",
    "    month = time.strftime(\"%B\")\n",
    "    day = time.strftime(\"%d\")\n",
    "    year = time.strftime(\"%Y\")\n",
    "    time_zone = time.strftime(\"%Z\")\n",
    "    \n",
    "    weekday_label.config(text = weekday)\n",
    "    \n",
    "    date_label.config(text = month + \" \" +  day +\",\" + \" \" + year)\n",
    "    \n",
    "    tz_label.config(text = time_zone)\n",
    "\n",
    "Label(master, font = (\"Gungsuh\", 15), text = \"Digital Clock\", bg = \"navy\", fg = \"orange\").pack()\n",
    "clock = Label(master, font = (\"Gungsuh\", 75), bg = \"navy\", fg = \"orange\")\n",
    "clock.pack()\n",
    "\n",
    "weekday_label = Label(font = (\"Gungsuh\", 50), bg = \"navy\", fg = \"orange\")\n",
    "weekday_label.pack()\n",
    "\n",
    "date_label = Label(font = (\"Gungsuh\", 50), bg = \"navy\", fg = \"orange\")\n",
    "date_label.pack()\n",
    "\n",
    "tz_label = Label(font = (\"Gungsuh\", 25), bg = \"navy\", fg = \"orange\")\n",
    "tz_label.pack()\n",
    "\n",
    "get_time()\n",
    "\n",
    "master.mainloop()"
   ]
  }
 ],
 "metadata": {
  "kernelspec": {
   "display_name": "Python 3 (ipykernel)",
   "language": "python",
   "name": "python3"
  },
  "language_info": {
   "codemirror_mode": {
    "name": "ipython",
    "version": 3
   },
   "file_extension": ".py",
   "mimetype": "text/x-python",
   "name": "python",
   "nbconvert_exporter": "python",
   "pygments_lexer": "ipython3",
   "version": "3.9.7"
  }
 },
 "nbformat": 4,
 "nbformat_minor": 5
}
